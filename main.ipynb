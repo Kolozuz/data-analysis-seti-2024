{
 "cells": [
  {
   "cell_type": "markdown",
   "metadata": {},
   "source": [
    "# Reto: Análisis de Uso de TransMilenio en Domingos\n",
    "### *by Juan Pablo Morales*"
   ]
  },
  {
   "cell_type": "code",
   "execution_count": 2,
   "metadata": {},
   "outputs": [],
   "source": [
    "import pandas as pd"
   ]
  },
  {
   "cell_type": "code",
   "execution_count": null,
   "metadata": {},
   "outputs": [],
   "source": [
    "# TODO: Remove special chars from Valor column so that conversion works properly\n",
    "def optimize_data_frame(df: pd.DataFrame):\n",
    "    \"\"\"This function will do the following optimizations to the provided data-frame `df`:\n",
    "        - Set columns for date and numeric values to the right type\n",
    "        - Remove useless columns/rows\n",
    "        - Optimize cols with few unique values using `Series.astype()` method with `\"category\"` as the `dtype` parameter, significantly reducing memory consumption.\n",
    "\n",
    "    Args:\n",
    "        df (pd.DataFrame): data frame to be optimized and cleaned \n",
    "\n",
    "    Returns:\n",
    "        pd.DataFrame: optimized copy of the original data-frame\n",
    "    \"\"\"\n",
    "    optimized_df = df.copy()\n",
    "    # Set columns for date and numeric values to the right type\n",
    "    optimized_df[\"Fecha_Transaccion\"] = pd.to_datetime(df[\"Fecha_Transaccion\"], format=\"%Y-%m-%d %H:%M:%S\")\n",
    "\n",
    "    # Remove useless columns/rows\n",
    "    # TODO\n",
    "\n",
    "    # Optimize cols with few unique values using `Series.astype()` method with `\"category\"` as the `dtype` parameter, significantly reducing memory consumption.\n",
    "    cols_to_categorize = [\n",
    "        \"Acceso_Estacion\",\n",
    "        \"Day_Group_Type\",\n",
    "        \"Dispositivo\",\n",
    "        \"Emisor\",\n",
    "        \"Estacion_Parada\",\n",
    "        \"Fase\",\n",
    "        \"Hora_Pico_SN\",\n",
    "        \"ID_Vehiculo\",\n",
    "        \"Linea\",\n",
    "        \"Nombre_Perfil\",\n",
    "        \"Numero_Tarjeta\",\n",
    "        \"Operador\",\n",
    "        \"Ruta\",\n",
    "        \"Sistema\",\n",
    "        \"Tipo_Tarifa\",\n",
    "        \"Tipo_Tarjeta\",\n",
    "        \"Tipo_Vehiculo\"\n",
    "    ]\n",
    "    optimized_df[cols_to_categorize] = df[cols_to_categorize].astype(\"category\")\n",
    "\n",
    "    return optimized_df"
   ]
  },
  {
   "cell_type": "code",
   "execution_count": null,
   "metadata": {},
   "outputs": [],
   "source": [
    "def collect_data(data_list):\n",
    "    \"\"\"Method that groups all the data into a single data-frame\n",
    "\n",
    "    Args:\n",
    "        data_list (list): list of paths of csv files from which data is to be collected and grouped\n",
    "    \"\"\"\n",
    "    final_df = pd.DataFrame()\n",
    "\n",
    "    # for data in data_list: \n",
    "    #     return pd.read_csv(data, parse_dates=[\"Fecha_Clearing\"], date_format=\"%Y-%m-%d\")\n",
    "    final_df = pd.read_csv(data_list[0], parse_dates=[\"Fecha_Clearing\"], date_format=\"%Y-%m-%d\")\n",
    "    return final_df\n",
    "\n",
    "    "
   ]
  },
  {
   "cell_type": "code",
   "execution_count": 85,
   "metadata": {},
   "outputs": [],
   "source": [
    "day1 = pd.read_csv(\"challenge/validacion20241020\", parse_dates=[\"Fecha_Clearing\"], date_format=\"%Y-%m-%d\")"
   ]
  },
  {
   "cell_type": "code",
   "execution_count": 89,
   "metadata": {},
   "outputs": [
    {
     "name": "stdout",
     "output_type": "stream",
     "text": [
      "<class 'pandas.core.frame.DataFrame'>\n",
      "RangeIndex: 638602 entries, 0 to 638601\n",
      "Data columns (total 22 columns):\n",
      " #   Column                      Non-Null Count   Dtype         \n",
      "---  ------                      --------------   -----         \n",
      " 0   Acceso_Estacion             638602 non-null  category      \n",
      " 1   Day_Group_Type              638602 non-null  category      \n",
      " 2   Dispositivo                 638602 non-null  category      \n",
      " 3   Emisor                      638602 non-null  category      \n",
      " 4   Estacion_Parada             638602 non-null  category      \n",
      " 5   Fase                        638602 non-null  category      \n",
      " 6   Fecha_Clearing              638602 non-null  datetime64[ns]\n",
      " 7   Fecha_Transaccion           638602 non-null  datetime64[ns]\n",
      " 8   Hora_Pico_SN                638602 non-null  category      \n",
      " 9   ID_Vehiculo                 0 non-null       category      \n",
      " 10  Linea                       638602 non-null  category      \n",
      " 11  Nombre_Perfil               638602 non-null  category      \n",
      " 12  Numero_Tarjeta              638602 non-null  category      \n",
      " 13  Operador                    638602 non-null  category      \n",
      " 14  Ruta                        0 non-null       category      \n",
      " 15  Saldo_Despues_Transaccion   638602 non-null  float64       \n",
      " 16  Saldo_Previo_a_Transaccion  638602 non-null  float64       \n",
      " 17  Sistema                     638602 non-null  category      \n",
      " 18  Tipo_Tarifa                 638602 non-null  category      \n",
      " 19  Tipo_Tarjeta                638602 non-null  category      \n",
      " 20  Tipo_Vehiculo               0 non-null       category      \n",
      " 21  Valor                       638602 non-null  object        \n",
      "dtypes: category(17), datetime64[ns](2), float64(2), object(1)\n",
      "memory usage: 49.5+ MB\n"
     ]
    }
   ],
   "source": [
    "# Read info of the four days from csv files and create a dataframe for each one\n",
    "# data_list = [\"challenge/validacion20241020\"]\n",
    "# day1 = collect_data(data_list)\n",
    "\n",
    "# day1.info()\n",
    "optimize_data_frame(day1).info()"
   ]
  },
  {
   "cell_type": "code",
   "execution_count": 57,
   "metadata": {},
   "outputs": [
    {
     "data": {
      "text/html": [
       "<div>\n",
       "<style scoped>\n",
       "    .dataframe tbody tr th:only-of-type {\n",
       "        vertical-align: middle;\n",
       "    }\n",
       "\n",
       "    .dataframe tbody tr th {\n",
       "        vertical-align: top;\n",
       "    }\n",
       "\n",
       "    .dataframe thead th {\n",
       "        text-align: right;\n",
       "    }\n",
       "</style>\n",
       "<table border=\"1\" class=\"dataframe\">\n",
       "  <thead>\n",
       "    <tr style=\"text-align: right;\">\n",
       "      <th></th>\n",
       "      <th>Acceso_Estacion</th>\n",
       "      <th>Day_Group_Type</th>\n",
       "      <th>Dispositivo</th>\n",
       "      <th>Emisor</th>\n",
       "      <th>Estacion_Parada</th>\n",
       "      <th>Fase</th>\n",
       "      <th>Fecha_Clearing</th>\n",
       "      <th>Fecha_Transaccion</th>\n",
       "      <th>Hora_Pico_SN</th>\n",
       "      <th>ID_Vehiculo</th>\n",
       "      <th>...</th>\n",
       "      <th>Numero_Tarjeta</th>\n",
       "      <th>Operador</th>\n",
       "      <th>Ruta</th>\n",
       "      <th>Saldo_Despues_Transaccion</th>\n",
       "      <th>Saldo_Previo_a_Transaccion</th>\n",
       "      <th>Sistema</th>\n",
       "      <th>Tipo_Tarifa</th>\n",
       "      <th>Tipo_Tarjeta</th>\n",
       "      <th>Tipo_Vehiculo</th>\n",
       "      <th>Valor</th>\n",
       "    </tr>\n",
       "  </thead>\n",
       "  <tbody>\n",
       "    <tr>\n",
       "      <th>0</th>\n",
       "      <td>(LA) ALIMENTACION CASTILLA Y BIBLIOTECA TINTAL</td>\n",
       "      <td>Dia 2</td>\n",
       "      <td>10000784</td>\n",
       "      <td>3101000</td>\n",
       "      <td>(05100) Banderas P. Central</td>\n",
       "      <td>Fase 3</td>\n",
       "      <td>2024-10-20</td>\n",
       "      <td>2024-10-20 03:50:43</td>\n",
       "      <td>Peak Time</td>\n",
       "      <td>NaN</td>\n",
       "      <td>...</td>\n",
       "      <td>d970ef6f244d5c52ed0319c87dc31e2c0eea23ed151fc7...</td>\n",
       "      <td>(201) Trunk agency</td>\n",
       "      <td>NaN</td>\n",
       "      <td>1730.0</td>\n",
       "      <td>4680.0</td>\n",
       "      <td>TRONCAL</td>\n",
       "      <td>1,0</td>\n",
       "      <td>tullave Plus</td>\n",
       "      <td>NaN</td>\n",
       "      <td>$ 2950.0</td>\n",
       "    </tr>\n",
       "    <tr>\n",
       "      <th>1</th>\n",
       "      <td>(01) Acceso Peatonal Norte</td>\n",
       "      <td>Dia 2</td>\n",
       "      <td>10001263</td>\n",
       "      <td>3101000</td>\n",
       "      <td>(07010) Bosa</td>\n",
       "      <td>Fase 3</td>\n",
       "      <td>2024-10-20</td>\n",
       "      <td>2024-10-20 03:53:34</td>\n",
       "      <td>Peak Time</td>\n",
       "      <td>NaN</td>\n",
       "      <td>...</td>\n",
       "      <td>a432a8fb2c4ed0eee674c0d3ae6758e27f02d71db785ff...</td>\n",
       "      <td>(201) Trunk agency</td>\n",
       "      <td>NaN</td>\n",
       "      <td>14750.0</td>\n",
       "      <td>17700.0</td>\n",
       "      <td>TRONCAL</td>\n",
       "      <td>1,0</td>\n",
       "      <td>tullave Básica</td>\n",
       "      <td>NaN</td>\n",
       "      <td>$ 2950.0</td>\n",
       "    </tr>\n",
       "    <tr>\n",
       "      <th>2</th>\n",
       "      <td>(01) Acceso Peatonal Norte</td>\n",
       "      <td>Dia 2</td>\n",
       "      <td>10001264</td>\n",
       "      <td>3101000</td>\n",
       "      <td>(07010) Bosa</td>\n",
       "      <td>Fase 3</td>\n",
       "      <td>2024-10-20</td>\n",
       "      <td>2024-10-20 03:53:57</td>\n",
       "      <td>Peak Time</td>\n",
       "      <td>NaN</td>\n",
       "      <td>...</td>\n",
       "      <td>82e95c47d12e418f3d661df39905cbce80ef9e21804c53...</td>\n",
       "      <td>(201) Trunk agency</td>\n",
       "      <td>NaN</td>\n",
       "      <td>250.0</td>\n",
       "      <td>3200.0</td>\n",
       "      <td>TRONCAL</td>\n",
       "      <td>1,0</td>\n",
       "      <td>tullave Básica</td>\n",
       "      <td>NaN</td>\n",
       "      <td>$ 2950.0</td>\n",
       "    </tr>\n",
       "    <tr>\n",
       "      <th>3</th>\n",
       "      <td>(BA) BATERIA VAGON ORIENTE PARQUE EL TUNAL</td>\n",
       "      <td>Dia 2</td>\n",
       "      <td>10000528</td>\n",
       "      <td>3101000</td>\n",
       "      <td>(08001) Parque el Tunal</td>\n",
       "      <td>Fase 3</td>\n",
       "      <td>2024-10-20</td>\n",
       "      <td>2024-10-20 03:54:20</td>\n",
       "      <td>Peak Time</td>\n",
       "      <td>NaN</td>\n",
       "      <td>...</td>\n",
       "      <td>f72f11a243e1821860d4525f6ba295de6f21fe783fa7e2...</td>\n",
       "      <td>(201) Trunk agency</td>\n",
       "      <td>NaN</td>\n",
       "      <td>68000.0</td>\n",
       "      <td>70950.0</td>\n",
       "      <td>TRONCAL</td>\n",
       "      <td>1,0</td>\n",
       "      <td>tullave Básica</td>\n",
       "      <td>NaN</td>\n",
       "      <td>$ 2950.0</td>\n",
       "    </tr>\n",
       "    <tr>\n",
       "      <th>4</th>\n",
       "      <td>(23) Acceso Peatonal</td>\n",
       "      <td>Dia 2</td>\n",
       "      <td>40000160</td>\n",
       "      <td>3101000</td>\n",
       "      <td>(05000) Portal Américas</td>\n",
       "      <td>Fase 3</td>\n",
       "      <td>2024-10-20</td>\n",
       "      <td>2024-10-20 03:54:47</td>\n",
       "      <td>Peak Time</td>\n",
       "      <td>NaN</td>\n",
       "      <td>...</td>\n",
       "      <td>ff62cbf07e71e84f49e9f6af4671f60efb77c1735229ad...</td>\n",
       "      <td>(201) Trunk agency</td>\n",
       "      <td>NaN</td>\n",
       "      <td>54230.0</td>\n",
       "      <td>56730.0</td>\n",
       "      <td>TRONCAL</td>\n",
       "      <td>1,0</td>\n",
       "      <td>tullave Plus</td>\n",
       "      <td>NaN</td>\n",
       "      <td>$ 2500.0</td>\n",
       "    </tr>\n",
       "  </tbody>\n",
       "</table>\n",
       "<p>5 rows × 22 columns</p>\n",
       "</div>"
      ],
      "text/plain": [
       "                                  Acceso_Estacion Day_Group_Type  Dispositivo  \\\n",
       "0  (LA) ALIMENTACION CASTILLA Y BIBLIOTECA TINTAL          Dia 2     10000784   \n",
       "1                      (01) Acceso Peatonal Norte          Dia 2     10001263   \n",
       "2                      (01) Acceso Peatonal Norte          Dia 2     10001264   \n",
       "3      (BA) BATERIA VAGON ORIENTE PARQUE EL TUNAL          Dia 2     10000528   \n",
       "4                            (23) Acceso Peatonal          Dia 2     40000160   \n",
       "\n",
       "    Emisor              Estacion_Parada    Fase Fecha_Clearing  \\\n",
       "0  3101000  (05100) Banderas P. Central  Fase 3     2024-10-20   \n",
       "1  3101000                 (07010) Bosa  Fase 3     2024-10-20   \n",
       "2  3101000                 (07010) Bosa  Fase 3     2024-10-20   \n",
       "3  3101000      (08001) Parque el Tunal  Fase 3     2024-10-20   \n",
       "4  3101000      (05000) Portal Américas  Fase 3     2024-10-20   \n",
       "\n",
       "     Fecha_Transaccion Hora_Pico_SN  ID_Vehiculo  ...  \\\n",
       "0  2024-10-20 03:50:43    Peak Time          NaN  ...   \n",
       "1  2024-10-20 03:53:34    Peak Time          NaN  ...   \n",
       "2  2024-10-20 03:53:57    Peak Time          NaN  ...   \n",
       "3  2024-10-20 03:54:20    Peak Time          NaN  ...   \n",
       "4  2024-10-20 03:54:47    Peak Time          NaN  ...   \n",
       "\n",
       "                                      Numero_Tarjeta            Operador Ruta  \\\n",
       "0  d970ef6f244d5c52ed0319c87dc31e2c0eea23ed151fc7...  (201) Trunk agency  NaN   \n",
       "1  a432a8fb2c4ed0eee674c0d3ae6758e27f02d71db785ff...  (201) Trunk agency  NaN   \n",
       "2  82e95c47d12e418f3d661df39905cbce80ef9e21804c53...  (201) Trunk agency  NaN   \n",
       "3  f72f11a243e1821860d4525f6ba295de6f21fe783fa7e2...  (201) Trunk agency  NaN   \n",
       "4  ff62cbf07e71e84f49e9f6af4671f60efb77c1735229ad...  (201) Trunk agency  NaN   \n",
       "\n",
       "  Saldo_Despues_Transaccion  Saldo_Previo_a_Transaccion  Sistema  Tipo_Tarifa  \\\n",
       "0                    1730.0                      4680.0  TRONCAL          1,0   \n",
       "1                   14750.0                     17700.0  TRONCAL          1,0   \n",
       "2                     250.0                      3200.0  TRONCAL          1,0   \n",
       "3                   68000.0                     70950.0  TRONCAL          1,0   \n",
       "4                   54230.0                     56730.0  TRONCAL          1,0   \n",
       "\n",
       "     Tipo_Tarjeta Tipo_Vehiculo     Valor  \n",
       "0    tullave Plus           NaN  $ 2950.0  \n",
       "1  tullave Básica           NaN  $ 2950.0  \n",
       "2  tullave Básica           NaN  $ 2950.0  \n",
       "3  tullave Básica           NaN  $ 2950.0  \n",
       "4    tullave Plus           NaN  $ 2500.0  \n",
       "\n",
       "[5 rows x 22 columns]"
      ]
     },
     "execution_count": 57,
     "metadata": {},
     "output_type": "execute_result"
    }
   ],
   "source": [
    "day1.head()"
   ]
  },
  {
   "cell_type": "code",
   "execution_count": 73,
   "metadata": {},
   "outputs": [
    {
     "name": "stdout",
     "output_type": "stream",
     "text": [
      "<class 'pandas.core.frame.DataFrame'>\n",
      "RangeIndex: 638602 entries, 0 to 638601\n",
      "Data columns (total 22 columns):\n",
      " #   Column                      Non-Null Count   Dtype         \n",
      "---  ------                      --------------   -----         \n",
      " 0   Acceso_Estacion             638602 non-null  object        \n",
      " 1   Day_Group_Type              638602 non-null  object        \n",
      " 2   Dispositivo                 638602 non-null  int64         \n",
      " 3   Emisor                      638602 non-null  int64         \n",
      " 4   Estacion_Parada             638602 non-null  object        \n",
      " 5   Fase                        638602 non-null  object        \n",
      " 6   Fecha_Clearing              638602 non-null  datetime64[ns]\n",
      " 7   Fecha_Transaccion           638602 non-null  datetime64[ns]\n",
      " 8   Hora_Pico_SN                638602 non-null  object        \n",
      " 9   ID_Vehiculo                 0 non-null       float64       \n",
      " 10  Linea                       638602 non-null  object        \n",
      " 11  Nombre_Perfil               638602 non-null  object        \n",
      " 12  Numero_Tarjeta              638602 non-null  object        \n",
      " 13  Operador                    638602 non-null  object        \n",
      " 14  Ruta                        0 non-null       float64       \n",
      " 15  Saldo_Despues_Transaccion   638602 non-null  float64       \n",
      " 16  Saldo_Previo_a_Transaccion  638602 non-null  float64       \n",
      " 17  Sistema                     638602 non-null  object        \n",
      " 18  Tipo_Tarifa                 638602 non-null  object        \n",
      " 19  Tipo_Tarjeta                638602 non-null  object        \n",
      " 20  Tipo_Vehiculo               0 non-null       float64       \n",
      " 21  Valor                       638602 non-null  object        \n",
      "dtypes: datetime64[ns](2), float64(5), int64(2), object(13)\n",
      "memory usage: 107.2+ MB\n"
     ]
    }
   ],
   "source": [
    "day1.info()"
   ]
  },
  {
   "cell_type": "code",
   "execution_count": 18,
   "metadata": {},
   "outputs": [
    {
     "data": {
      "text/plain": [
       "Acceso_Estacion                  401\n",
       "Day_Group_Type                     2\n",
       "Dispositivo                     1371\n",
       "Emisor                             8\n",
       "Estacion_Parada                  147\n",
       "Fase                               1\n",
       "Fecha_Clearing                     1\n",
       "Fecha_Transaccion              64752\n",
       "Hora_Pico_SN                       1\n",
       "ID_Vehiculo                        0\n",
       "Linea                             13\n",
       "Nombre_Perfil                      7\n",
       "Numero_Tarjeta                388048\n",
       "Operador                           1\n",
       "Ruta                               0\n",
       "Saldo_Despues_Transaccion       8611\n",
       "Saldo_Previo_a_Transaccion      8744\n",
       "Sistema                            1\n",
       "Tipo_Tarifa                        3\n",
       "Tipo_Tarjeta                       2\n",
       "Tipo_Vehiculo                      0\n",
       "Valor                              3\n",
       "dtype: int64"
      ]
     },
     "execution_count": 18,
     "metadata": {},
     "output_type": "execute_result"
    }
   ],
   "source": [
    "day1.nunique()"
   ]
  },
  {
   "cell_type": "code",
   "execution_count": 91,
   "metadata": {
    "editable": true,
    "slideshow": {
     "slide_type": ""
    },
    "tags": []
   },
   "outputs": [
    {
     "data": {
      "text/plain": [
       "Acceso_Estacion                     category\n",
       "Day_Group_Type                      category\n",
       "Dispositivo                         category\n",
       "Emisor                              category\n",
       "Estacion_Parada                     category\n",
       "Fase                                category\n",
       "Fecha_Clearing                datetime64[ns]\n",
       "Fecha_Transaccion             datetime64[ns]\n",
       "Hora_Pico_SN                        category\n",
       "ID_Vehiculo                         category\n",
       "Linea                               category\n",
       "Nombre_Perfil                       category\n",
       "Numero_Tarjeta                      category\n",
       "Operador                            category\n",
       "Ruta                                category\n",
       "Saldo_Despues_Transaccion            float64\n",
       "Saldo_Previo_a_Transaccion           float64\n",
       "Sistema                             category\n",
       "Tipo_Tarifa                         category\n",
       "Tipo_Tarjeta                        category\n",
       "Tipo_Vehiculo                       category\n",
       "Valor                                 object\n",
       "dtype: object"
      ]
     },
     "execution_count": 91,
     "metadata": {},
     "output_type": "execute_result"
    }
   ],
   "source": [
    "optimize_data_frame(day1).dtypes"
   ]
  },
  {
   "cell_type": "code",
   "execution_count": 7,
   "metadata": {},
   "outputs": [
    {
     "data": {
      "text/plain": [
       "Index(['Acceso_Estacion', 'Day_Group_Type', 'Dispositivo', 'Emisor',\n",
       "       'Estacion_Parada', 'Fase', 'Fecha_Clearing', 'Fecha_Transaccion',\n",
       "       'Hora_Pico_SN', 'ID_Vehiculo', 'Linea', 'Nombre_Perfil',\n",
       "       'Numero_Tarjeta', 'Operador', 'Ruta', 'Saldo_Despues_Transaccion',\n",
       "       'Saldo_Previo_a_Transaccion', 'Sistema', 'Tipo_Tarifa', 'Tipo_Tarjeta',\n",
       "       'Tipo_Vehiculo', 'Valor'],\n",
       "      dtype='object')"
      ]
     },
     "execution_count": 7,
     "metadata": {},
     "output_type": "execute_result"
    }
   ],
   "source": [
    "day1.columns"
   ]
  },
  {
   "cell_type": "code",
   "execution_count": 9,
   "metadata": {},
   "outputs": [
    {
     "data": {
      "text/plain": [
       "[RangeIndex(start=0, stop=638602, step=1),\n",
       " Index(['Acceso_Estacion', 'Day_Group_Type', 'Dispositivo', 'Emisor',\n",
       "        'Estacion_Parada', 'Fase', 'Fecha_Clearing', 'Fecha_Transaccion',\n",
       "        'Hora_Pico_SN', 'ID_Vehiculo', 'Linea', 'Nombre_Perfil',\n",
       "        'Numero_Tarjeta', 'Operador', 'Ruta', 'Saldo_Despues_Transaccion',\n",
       "        'Saldo_Previo_a_Transaccion', 'Sistema', 'Tipo_Tarifa', 'Tipo_Tarjeta',\n",
       "        'Tipo_Vehiculo', 'Valor'],\n",
       "       dtype='object')]"
      ]
     },
     "execution_count": 9,
     "metadata": {},
     "output_type": "execute_result"
    }
   ],
   "source": [
    "day1.axes"
   ]
  }
 ],
 "metadata": {
  "kernelspec": {
   "display_name": "myenv",
   "language": "python",
   "name": "python3"
  },
  "language_info": {
   "codemirror_mode": {
    "name": "ipython",
    "version": 3
   },
   "file_extension": ".py",
   "mimetype": "text/x-python",
   "name": "python",
   "nbconvert_exporter": "python",
   "pygments_lexer": "ipython3",
   "version": "3.12.7"
  }
 },
 "nbformat": 4,
 "nbformat_minor": 4
}
